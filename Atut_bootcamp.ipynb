{
 "cells": [
  {
   "cell_type": "markdown",
   "id": "2acdedbf",
   "metadata": {},
   "source": [
    "# Context of project :\n",
    "\n",
    "Date Time: Each ten minutes.\n",
    "Temperature: Weather Temperature of Tetouan city.\n",
    "Humidity: Weather Humidity of Tetouan city.\n",
    "Wind Speed of Tetouan city.\n",
    "general diffuse flows\n",
    "diffuse flows\n",
    "power consumption of zone 1 of Tetouan city.\n",
    "pow"
   ]
  },
  {
   "cell_type": "markdown",
   "id": "f3e6cd1a",
   "metadata": {},
   "source": [
    "# Etapes of modelization\n",
    "\n",
    "## Exploration of the Data\n",
    "\n",
    "1. Creation of a copy of the data for exploration (sampling it down to a manageable size if necessary).\n",
    "2. Study each attribute and its characteristics:\n",
    "\n",
    "\n",
    "-Name\n",
    "\n",
    "\n",
    "-Type (categorical, int/float, bounded/unbounded, text, structured, etc.)\n",
    "\n",
    "\n",
    "-Noisiness and type of noise (stochastic, outliers, rounding errors, etc.)\n",
    "\n",
    "\n",
    "-Possibly useful for the task?\n",
    "\n",
    "\n",
    "-Type of distribution (Gaussian, uniform, logarithmic, etc.)\n",
    "\n",
    "\n",
    "4. Identifying of the target attribute(s).\n",
    "5. Viewing of the data\n",
    "6. Studying the correlations between attributes.\n",
    "8. Identifying the promising transformations you may want to apply.\n",
    "9. Identifying extra data that would be useful (this step is not important for this task)\n",
    "\n",
    "## Prepare the Data\n",
    "\n",
    "1. Data cleaning:\n",
    "\n",
    "\n",
    "• Fix or remove outliers (optional).\n",
    "\n",
    "\n",
    "• Fill in missing values (e.g., with zero, mean, median…) or drop their rows (or\n",
    "columns).\n",
    "\n",
    "\n",
    "\n",
    "2. Feature selection (optional):\n",
    "\n",
    "\n",
    "• Drop the attributes that provide no useful information for the task.\n",
    "\n",
    "\n",
    "\n",
    "3. Feature engineering, where appropriate:\n",
    "\n",
    "\n",
    "• Discretize continuous features.\n",
    "\n",
    "\n",
    "• Add promising transformations of features (e.g., log(x), sqrt(x), x^2, etc.).\n",
    "\n",
    "\n",
    "• Aggregate features into promising new features.\n",
    "\n",
    "\n",
    "\n",
    "4. Feature scaling: standardize or normalize features.\n",
    "\n",
    "\n",
    "## Modelisation\n",
    "\n",
    "1. Train LSTM,XGBoost using standard parameters.\n",
    "2. Measure and compare their performance.\n",
    "\n",
    "\n",
    "-For each model, use N-fold cross-validation and compute the mean and standard deviation of the performance measure on the N folds.\n",
    "\n",
    "\n",
    "3. Analyze the most significant variables for each algorithm.\n",
    "4. Analyze the types of errors the models make.\n",
    "\n",
    "\n",
    "\n",
    "5. Have a quick round of feature selection and engineering.\n",
    "6. Have one or two more quick iterations of the five previous steps.\n",
    "7. Short-list the top three to five most promising models, preferring models that make different types of errors.\n",
    "Fine-Tune the System\n",
    "\n",
    "1. Fine-tune the hyperparameters using cross-validation.\n",
    "\n",
    "\n",
    "• Treat your data transformation choices as hyperparameters, especially when\n",
    "you are not sure about them (e.g., should I replace missing values with zero or\n",
    "with the median value? Or just drop the rows?).\n",
    "\n",
    "\n",
    "• Unless there are very few hyperparameter values to explore, prefer random\n",
    "search over grid search. If training is very long, you may prefer a Bayesian\n",
    "optimization approach (e.g., using Gaussian process priors, as described by\n",
    "Jasper Snoek, Hugo Larochelle, and Ryan Adams).\n",
    "\n",
    "\n",
    "2. Try Ensemble methods. Combining your best models will often perform better than running them individually.\n"
   ]
  },
  {
   "cell_type": "code",
   "execution_count": 403,
   "id": "3586baa4",
   "metadata": {},
   "outputs": [],
   "source": [
    "import pandas as pd\n",
    "import numpy as np\n",
    "import seaborn as sn\n",
    "import matplotlib.pyplot as plt\n",
    "from pandas_profiling import ProfileReport\n",
    "from ipywidgets import interact\n",
    "from scipy.stats import kurtosis\n",
    "from statsmodels.tsa.stattools import adfuller # for augmented dickey fuller test\n",
    "from statsmodels.graphics.tsaplots import plot_acf, plot_pacf # (partial) autocorrelation and autocorrelation functiun\n",
    "#from statsmodels.tsa.arima.model import ARIMA # ARIMA models\n",
    "from statsmodels.tsa.seasonal import seasonal_decompose\n",
    "from statsmodels.tsa.seasonal import seasonal_decompose\n",
    "from sklearn.ensemble import RandomForestRegressor\n",
    "from sklearn.model_selection import train_test_split\n",
    "from sklearn.model_selection import GridSearchCV\n",
    "from sklearn.preprocessing import MinMaxScaler\n",
    "import xgboost as xgb\n",
    "from sklearn.metrics import mean_squarred_error\n",
    "#import statsmodels.api as sm\n",
    "#import missingno as msn"
   ]
  },
  {
   "cell_type": "markdown",
   "id": "c56e6a04",
   "metadata": {},
   "source": [
    "# Helpers"
   ]
  },
  {
   "cell_type": "code",
   "execution_count": 415,
   "id": "6a41d56b",
   "metadata": {},
   "outputs": [],
   "source": [
    "x_selected1=['hour', 'Temperature', 'months']\n",
    "x_selected2=['hour', 'months', 'general diffuse flows', 'Temperature', 'Humidity']\n",
    "x_selected3=['months', 'hour', 'Temperature']\n",
    "\n",
    "def sanity():\n",
    "    \"\"\"The purpose is to be sure that the dataset is clean and the and that the data schema is the same as the one we use as a basis\"\"\"\n",
    "    if((data.isna().sum()).sum()>0):\n",
    "        data.dropna(inplace=True)\n",
    "\n",
    "def importation_of_dataset(path_):\n",
    "    data_consumption=pd.read_csv(path_,index_col=0,parse_dates=['DateTime'])\n",
    "\n",
    "def box_plot(col):\n",
    "    sn.boxplot(data_consumption[col])\n",
    "    plt.title('{}'.format(col))\n",
    "    \n",
    "def histplot_(col):\n",
    "    sn.histplot(data_consumption[col],kde=True)\n",
    "    \n",
    "def skew_kurt(col):\n",
    "    print(\"The skewness of {} is {} :\".format(col,data_consumption[col].skew()))\n",
    "    #print(\"The kurtosis ofis {} :\".format(kurtosis(data_consumption)))\n",
    "    \n",
    "def plot_series(columns_):\n",
    "    data_consumption[columns_].plot(subplots=True, figsize=(30, 30))        \n",
    "\n",
    "    \n",
    "def boxplot_months(x_=\"months\",y_=\"Zone 1 Power Consumption\"):\n",
    "    plt.figure(figsize=(10,10))\n",
    "    sn.boxplot(data=df,x=x_,y=y_)\n",
    "    plt.show()\n",
    "    \n",
    "def compute_var(col,y_=\"Zone 1 Power Consumption\"):\n",
    "    sn.histplot(x=df[col],y=df[y_])\n",
    "    return plt.show()\n",
    "\n",
    "def boxplot_min(x_=\"hour\",y_=\"Zone 1 Power Consumption\"):\n",
    "    plt.figure(figsize=(10,10))\n",
    "    sn.boxplot(data=df,x=x_,y=y_)\n",
    "    plt.show()\n",
    "    \n",
    "def compute_adfuller(time_series,df):\n",
    "    stationarized=df[time_series]\n",
    "    total_order = 0\n",
    "    if adfuller(df[time_series])[1] > 0.05:\n",
    "        #difference if the adfuller test p-value is greater than 0.05- test de stationnarite\n",
    "        diff = (stationarized - stationarized.shift(1)).dropna()    \n",
    "        stationarized, order = stationarize(diff) # stationarize the difference\n",
    "        total_order = order + 1\n",
    "    else :\n",
    "        print(\"serie stationnaire\")\n",
    "    return stationarized, total_order\n",
    "\n",
    "\n",
    "\n",
    "def plot_acf_pacf(ts, fig = None):\n",
    "    if fig is None:\n",
    "        fig = plt.figure(figsize=(20, 10))\n",
    "        sub1 = fig.add_subplot(121)\n",
    "        #sm.graphics.tsa.plot_acf(ts, ax=sub1,lag=12)\n",
    "        plot_acf(ts, ax=sub1) # plot acf\n",
    "        plt.title('ACF')\n",
    "        \n",
    "        sub2 = fig.add_subplot(122)\n",
    "        plot_pacf(ts, ax=sub2, method='ywm') # plot pacf\n",
    "        plt.title('PACF')\n",
    "        \n",
    "        \n",
    "def decomposition_(ts):\n",
    "    decomposition = seasonal_decompose(ts.loc[\"2017-01\", \"Zone 1 Power Consumption\"], period=6*24)\n",
    "    fig=decomposition.plot()\n",
    "    fig.set_size_inches((15, 6))\n",
    "    \n",
    "def importances_var(name_of_model,features_):\n",
    "    # Importance des variables\n",
    "    plt.figure(figsize=(25,25))\n",
    "    features_important=pd.Series(name_of_model.feature_importances_, index=features_.columns).sort_values(ascending=False)\n",
    "    sn.barplot(x=features_important.index, y=features_important)\n",
    "    plt.xlabel(\"Variables\")\n",
    "    plt.ylabel(\"score of importance\")\n",
    "    plt.title(\"Importance of feature\")\n",
    "    plt.show()\n",
    "    return features_important\n",
    "\n",
    "\n",
    "\n",
    "def add_month_or_hour(dataset):\n",
    "    dataset['months']=df.index.map(lambda x: x.month)\n",
    "    dataset['hour']=df.index.map(lambda x: x.hour)\n",
    "    return dataset\n",
    "\n",
    "def selection_of_var(dataset,zone=1):\n",
    "    dataset=add_month_or_hour(dataset)\n",
    "    if zone==1:\n",
    "        dataset=pd.concat([dataset[x_selected1],dataset[\"Zone 1 Power Consumption\"]],axis=1)\n",
    "    if zone==2:\n",
    "        dataset=pd.concat([dataset[x_selected2],dataset[\"Zone 2 Power Consumption\"]],axis=1)\n",
    "    if zone==3:\n",
    "        dataset=pd.concat([dataset[x_selected3],dataset[\"Zone 3 Power Consumption\"]],axis=1)\n",
    "    return dataset\n",
    "\n",
    "\n",
    "\n",
    "def for_standardisation(dataset):\n",
    "    scaler=MinMaxScaler()\n",
    "    return pd.DataFrame(scaler.fit_transform(dataset),columns=dataset.columns)\n",
    "\n",
    "\n",
    "\n",
    "def separation_of_dataset(dataset,label_name=\"Zone 1 Power Consumption\",test_size=0.2):\n",
    "    features=dataset.drop(label_name,axis=1)\n",
    "    label=dataset[label_name]\n",
    "    x_train,x_test,y_train,y_test=train_test_split(features,label,test_size=0.2,shuffle=False)\n",
    "    return x_train,x_test,y_train,y_test\n",
    "\n",
    "\n",
    "\n",
    "    "
   ]
  },
  {
   "cell_type": "markdown",
   "id": "d0e12f02",
   "metadata": {},
   "source": [
    "# Exploration of data"
   ]
  },
  {
   "cell_type": "code",
   "execution_count": null,
   "id": "58391ad9",
   "metadata": {},
   "outputs": [],
   "source": [
    "data_consumption.head()"
   ]
  },
  {
   "cell_type": "code",
   "execution_count": null,
   "id": "adb3aeb5",
   "metadata": {},
   "outputs": [],
   "source": [
    "#profile=ProfileReport(\n",
    "                   # data_consumption,\n",
    "                    #title=\"Power forecasting\",\n",
    "                    #html={'style' : {'full_width' :True}}\n",
    "#)\n",
    "\n",
    "\n",
    "#profile.to_file(output_file=\"power forecasting.html\")"
   ]
  },
  {
   "cell_type": "code",
   "execution_count": null,
   "id": "8a97601e",
   "metadata": {},
   "outputs": [],
   "source": [
    "data_consumption.describe()"
   ]
  },
  {
   "cell_type": "code",
   "execution_count": null,
   "id": "7d917369",
   "metadata": {},
   "outputs": [],
   "source": [
    "data_consumption.info()"
   ]
  },
  {
   "cell_type": "markdown",
   "id": "61278096",
   "metadata": {},
   "source": [
    "## Are there any missing value ?"
   ]
  },
  {
   "cell_type": "code",
   "execution_count": null,
   "id": "78a4670a",
   "metadata": {},
   "outputs": [],
   "source": [
    "data_consumption.isna().sum()"
   ]
  },
  {
   "cell_type": "markdown",
   "id": "e83ceffd",
   "metadata": {},
   "source": [
    "## Duplicated values ?"
   ]
  },
  {
   "cell_type": "code",
   "execution_count": null,
   "id": "290d8a82",
   "metadata": {},
   "outputs": [],
   "source": [
    "data_consumption.duplicated().sum()"
   ]
  },
  {
   "cell_type": "markdown",
   "id": "c31d6a62",
   "metadata": {},
   "source": [
    "## Noiness "
   ]
  },
  {
   "cell_type": "code",
   "execution_count": null,
   "id": "0537f18c",
   "metadata": {},
   "outputs": [],
   "source": [
    "columns_=data_consumption.columns\n",
    "columns_=columns_.drop(\"DateTime\")"
   ]
  },
  {
   "cell_type": "code",
   "execution_count": null,
   "id": "8d52eee1",
   "metadata": {},
   "outputs": [],
   "source": [
    "interact(box_plot,col=columns_)"
   ]
  },
  {
   "cell_type": "code",
   "execution_count": null,
   "id": "9cebd90f",
   "metadata": {},
   "outputs": [],
   "source": [
    "# compute a critere of cook to detect the \"valeurs aberrantes\""
   ]
  },
  {
   "cell_type": "code",
   "execution_count": null,
   "id": "5c90cb50",
   "metadata": {},
   "outputs": [],
   "source": [
    "interact(histplot_,col=columns_)"
   ]
  },
  {
   "cell_type": "code",
   "execution_count": null,
   "id": "71fef943",
   "metadata": {},
   "outputs": [],
   "source": []
  },
  {
   "cell_type": "code",
   "execution_count": null,
   "id": "bae30eda",
   "metadata": {},
   "outputs": [],
   "source": [
    "zone=[\"Zone 1 Power Consumption\",\"Zone 2 Power Consumption\",\"Zone 3 Power Consumption\"]"
   ]
  },
  {
   "cell_type": "code",
   "execution_count": null,
   "id": "6a86889e",
   "metadata": {},
   "outputs": [],
   "source": [
    "interact(compute_var,col=columns_,y_=zone)"
   ]
  },
  {
   "cell_type": "markdown",
   "id": "c44936d1",
   "metadata": {},
   "source": [
    "## skewness and kurtosis"
   ]
  },
  {
   "cell_type": "code",
   "execution_count": null,
   "id": "ae89c42f",
   "metadata": {},
   "outputs": [],
   "source": [
    "interact(skew_kurt,col=columns_)"
   ]
  },
  {
   "cell_type": "markdown",
   "id": "a0640f89",
   "metadata": {},
   "source": [
    "## Viewing data"
   ]
  },
  {
   "cell_type": "code",
   "execution_count": null,
   "id": "d1ac66be",
   "metadata": {},
   "outputs": [],
   "source": [
    "plot_series(columns_)"
   ]
  },
  {
   "cell_type": "markdown",
   "id": "f8e5776f",
   "metadata": {},
   "source": [
    "### boxplot"
   ]
  },
  {
   "cell_type": "code",
   "execution_count": 289,
   "id": "6a41bd74",
   "metadata": {},
   "outputs": [
    {
     "data": {
      "image/png": "[encoded data removed]",
      "text/plain": [
       "<Figure size 1440x720 with 1 Axes>"
      ]
     },
     "metadata": {
      "needs_background": "light"
     },
     "output_type": "display_data"
    }
   ],
   "source": [
    "plt.figure(figsize=(20,10))\n",
    "sn.boxplot(data=df[[\"Zone 1 Power Consumption\",\"Zone 2 Power Consumption\",\"Zone 3 Power Consumption\"]])\n",
    "plt.show()"
   ]
  },
  {
   "cell_type": "code",
   "execution_count": null,
   "id": "02db571f",
   "metadata": {},
   "outputs": [],
   "source": [
    "\"\"\"On remarque de ces boxplots que la consommation de la zone 3 est relativement tres basse par rapport a celle des autres zones\"\"\""
   ]
  },
  {
   "cell_type": "code",
   "execution_count": null,
   "id": "9f0b1ce8",
   "metadata": {},
   "outputs": [],
   "source": [
    "df=data_consumption.copy()"
   ]
  },
  {
   "cell_type": "code",
   "execution_count": null,
   "id": "4610742e",
   "metadata": {},
   "outputs": [],
   "source": [
    "\"\"\"Afin de pouvoir faire des analyses des donnees par mois et par heure pour voir les mois ou l'energie est la plus consommee et les jours de la zone ou elle l'est egalement nous allons ajouter des features a notre dataset.\"\"\""
   ]
  },
  {
   "cell_type": "markdown",
   "id": "e405eb53",
   "metadata": {},
   "source": [
    "## Ajout de la variable mois"
   ]
  },
  {
   "cell_type": "code",
   "execution_count": null,
   "id": "4fca3fcc",
   "metadata": {},
   "outputs": [],
   "source": [
    "df['months']=df.index.map(lambda x: x.month)"
   ]
  },
  {
   "cell_type": "code",
   "execution_count": null,
   "id": "6b5104c8",
   "metadata": {},
   "outputs": [],
   "source": [
    "df.sample(30)"
   ]
  },
  {
   "cell_type": "code",
   "execution_count": 290,
   "id": "c0c5935d",
   "metadata": {},
   "outputs": [
    {
     "data": {
      "image/png": "[encoded data removed]",
      "text/plain": [
       "<Figure size 720x720 with 1 Axes>"
      ]
     },
     "metadata": {
      "needs_background": "light"
     },
     "output_type": "display_data"
    }
   ],
   "source": [
    "boxplot_months(\"months\",\"Zone 1 Power Consumption\")"
   ]
  },
  {
   "cell_type": "code",
   "execution_count": null,
   "id": "3280fd57",
   "metadata": {},
   "outputs": [],
   "source": [
    "boxplot_months(\"months\",\"Zone 2 Power Consumption\")"
   ]
  },
  {
   "cell_type": "code",
   "execution_count": null,
   "id": "e2374ba1",
   "metadata": {},
   "outputs": [],
   "source": [
    "boxplot_months(\"months\",\"Zone 3 Power Consumption\")"
   ]
  },
  {
   "cell_type": "code",
   "execution_count": null,
   "id": "06d8c464",
   "metadata": {},
   "outputs": [],
   "source": [
    "\"\"\"On remarque de ces divers boxplots que la consommation d'energie dans les zones 1 et2 connait une hausse entre le 5 et le 8 mois. Cela laisse croire qu'il y a problablement un phenome qui fait que ce mois la consommation d'energie connait une hausse. C'est peut etre les vacances? C'est peut etre une ville touristique ou il fait assez frois pendant ce temps et ils utilisent le chauffage. Par contre, pour la zone 3,le mouvement est un peu plus different. La consommation d'energie connait de hausse le 4 mois en premier lieu, le 6 mois et le 8 avant de redescendre completement\"\"\""
   ]
  },
  {
   "cell_type": "markdown",
   "id": "9ba75802",
   "metadata": {},
   "source": [
    "## Ajout de la variable heure"
   ]
  },
  {
   "cell_type": "code",
   "execution_count": null,
   "id": "3cd952a1",
   "metadata": {},
   "outputs": [],
   "source": [
    "df['hour'] = df.index.hour"
   ]
  },
  {
   "cell_type": "code",
   "execution_count": null,
   "id": "9f6a5807",
   "metadata": {},
   "outputs": [],
   "source": [
    "df.head(8)"
   ]
  },
  {
   "cell_type": "code",
   "execution_count": 291,
   "id": "1358d069",
   "metadata": {},
   "outputs": [
    {
     "data": {
      "application/vnd.jupyter.widget-view+json": {
       "model_id": "5c69b737ed5e4f849471f145d521f192",
       "version_major": 2,
       "version_minor": 0
      },
      "text/plain": [
       "interactive(children=(Text(value='hour', description='x_'), Dropdown(description='y_', options=('Zone 1 Power …"
      ]
     },
     "metadata": {},
     "output_type": "display_data"
    },
    {
     "data": {
      "text/plain": [
       "<function __main__.boxplot_min(x_='hour', y_='Zone 1 Power Consumption')>"
      ]
     },
     "execution_count": 291,
     "metadata": {},
     "output_type": "execute_result"
    }
   ],
   "source": [
    "interact(boxplot_min,x_=\"hour\",y_=zone)"
   ]
  },
  {
   "cell_type": "markdown",
   "id": "ea171533",
   "metadata": {},
   "source": [
    "## correlation"
   ]
  },
  {
   "cell_type": "code",
   "execution_count": 286,
   "id": "ca8d99a1",
   "metadata": {},
   "outputs": [
    {
     "data": {
      "text/plain": [
       "<Axes: >"
      ]
     },
     "execution_count": 286,
     "metadata": {},
     "output_type": "execute_result"
    },
    {
     "data": {
      "image/png": "[encoded data removed]",
      "text/plain": [
       "<Figure size 432x288 with 2 Axes>"
      ]
     },
     "metadata": {
      "needs_background": "light"
     },
     "output_type": "display_data"
    }
   ],
   "source": [
    "sn.heatmap(df[[\"Temperature\",\"Humidity\",\"Wind Speed\",\"general diffuse flows\",\"Zone 1 Power Consumption\",\"Zone 2 Power Consumption\",\"Zone 3 Power Consumption\"]].corr(),annot=True)"
   ]
  },
  {
   "cell_type": "code",
   "execution_count": 287,
   "id": "33567237",
   "metadata": {},
   "outputs": [
    {
     "data": {
      "text/plain": [
       "\"En analysant la matrice de correlation, on remarque que la variable general diffuse flows n'est du tout pas correle a la zone 3. Et que la variable Temperature semble moyennement correle a toutes les zones. Pour un debut pour la prediction de la consommation dans la zone 3 nous allons retirer la var general... et pour les autres nous allons garder d'abord toutes les variables et faire une features importances pour selectionner les plus importantes pour chaque modele\""
      ]
     },
     "execution_count": 287,
     "metadata": {},
     "output_type": "execute_result"
    }
   ],
   "source": [
    "\"\"\"En analysant la matrice de correlation, on remarque que la variable general diffuse flows n'est du tout pas correle a la zone 3. Et que la variable Temperature semble moyennement correle a toutes les zones. Pour un debut pour la prediction de la consommation dans la zone 3 nous allons retirer la var general... et pour les autres nous allons garder d'abord toutes les variables et faire une features importances pour selectionner les plus importantes pour chaque modele\"\"\""
   ]
  },
  {
   "cell_type": "markdown",
   "id": "acacaef1",
   "metadata": {},
   "source": [
    "# Stationnarity"
   ]
  },
  {
   "cell_type": "code",
   "execution_count": null,
   "id": "c02b331b",
   "metadata": {},
   "outputs": [],
   "source": [
    "interact(compute_adfuller,time_series=zone)"
   ]
  },
  {
   "cell_type": "code",
   "execution_count": null,
   "id": "50998916",
   "metadata": {},
   "outputs": [],
   "source": [
    "\"\"\"Toutes nous series sont stationnaires.\"\"\""
   ]
  },
  {
   "cell_type": "markdown",
   "id": "69d4ced5",
   "metadata": {},
   "source": [
    "# autocorrelation"
   ]
  },
  {
   "cell_type": "code",
   "execution_count": null,
   "id": "c422f1ab",
   "metadata": {},
   "outputs": [],
   "source": [
    "plot_acf_pacf(df[\"Zone 3 Power Consumption\"])"
   ]
  },
  {
   "cell_type": "markdown",
   "id": "c5d55346",
   "metadata": {},
   "source": [
    "# Decomposition"
   ]
  },
  {
   "cell_type": "code",
   "execution_count": null,
   "id": "5ac95d70",
   "metadata": {},
   "outputs": [],
   "source": [
    "decomposition_(df)"
   ]
  },
  {
   "cell_type": "code",
   "execution_count": null,
   "id": "09b9505c",
   "metadata": {},
   "outputs": [],
   "source": []
  },
  {
   "cell_type": "markdown",
   "id": "036cd089",
   "metadata": {},
   "source": [
    "# Preparation of data\n",
    "\n",
    "1. Data cleaning:\n",
    "\n",
    "\n",
    "• Fix or remove outliers (optional).\n",
    "\n",
    "\n",
    "• Fill in missing values (e.g., with zero, mean, median…) or drop their rows (or\n",
    "columns).\n",
    "\n",
    "\n",
    "\n",
    "2. Feature selection (optional):\n",
    "\n",
    "\n",
    "• Drop the attributes that provide no useful information for the task.\n",
    "\n",
    "\n",
    "\n",
    "3. Feature engineering, where appropriate:\n",
    "\n",
    "\n",
    "• Discretize continuous features.\n",
    "\n",
    "\n",
    "• Add promising transformations of features (e.g., log(x), sqrt(x), x^2, etc.).\n",
    "\n",
    "\n",
    "• Aggregate features into promising new features."
   ]
  },
  {
   "cell_type": "markdown",
   "id": "8c46e01f",
   "metadata": {},
   "source": [
    "## Feature_selection"
   ]
  },
  {
   "cell_type": "code",
   "execution_count": null,
   "id": "ccee5d93",
   "metadata": {},
   "outputs": [],
   "source": [
    "#datasets for prediction of consumption 1,2,3\n",
    "df1=df.copy()\n",
    "df2=df.copy()\n",
    "df3=df.copy()"
   ]
  },
  {
   "cell_type": "code",
   "execution_count": 288,
   "id": "9c4cdb0f",
   "metadata": {},
   "outputs": [
    {
     "data": {
      "text/html": [
       "<div>\n",
       "<style scoped>\n",
       "    .dataframe tbody tr th:only-of-type {\n",
       "        vertical-align: middle;\n",
       "    }\n",
       "\n",
       "    .dataframe tbody tr th {\n",
       "        vertical-align: top;\n",
       "    }\n",
       "\n",
       "    .dataframe thead th {\n",
       "        text-align: right;\n",
       "    }\n",
       "</style>\n",
       "<table border=\"1\" class=\"dataframe\">\n",
       "  <thead>\n",
       "    <tr style=\"text-align: right;\">\n",
       "      <th></th>\n",
       "      <th>Temperature</th>\n",
       "      <th>Humidity</th>\n",
       "      <th>Wind Speed</th>\n",
       "      <th>general diffuse flows</th>\n",
       "      <th>diffuse flows</th>\n",
       "      <th>Zone 1 Power Consumption</th>\n",
       "      <th>months</th>\n",
       "      <th>hour</th>\n",
       "    </tr>\n",
       "    <tr>\n",
       "      <th>DateTime</th>\n",
       "      <th></th>\n",
       "      <th></th>\n",
       "      <th></th>\n",
       "      <th></th>\n",
       "      <th></th>\n",
       "      <th></th>\n",
       "      <th></th>\n",
       "      <th></th>\n",
       "    </tr>\n",
       "  </thead>\n",
       "  <tbody>\n",
       "    <tr>\n",
       "      <th>2017-01-01 00:00:00</th>\n",
       "      <td>6.559</td>\n",
       "      <td>73.8</td>\n",
       "      <td>0.083</td>\n",
       "      <td>0.051</td>\n",
       "      <td>0.119</td>\n",
       "      <td>34055.69620</td>\n",
       "      <td>1</td>\n",
       "      <td>0</td>\n",
       "    </tr>\n",
       "    <tr>\n",
       "      <th>2017-01-01 00:10:00</th>\n",
       "      <td>6.414</td>\n",
       "      <td>74.5</td>\n",
       "      <td>0.083</td>\n",
       "      <td>0.070</td>\n",
       "      <td>0.085</td>\n",
       "      <td>29814.68354</td>\n",
       "      <td>1</td>\n",
       "      <td>0</td>\n",
       "    </tr>\n",
       "    <tr>\n",
       "      <th>2017-01-01 00:20:00</th>\n",
       "      <td>6.313</td>\n",
       "      <td>74.5</td>\n",
       "      <td>0.080</td>\n",
       "      <td>0.062</td>\n",
       "      <td>0.100</td>\n",
       "      <td>29128.10127</td>\n",
       "      <td>1</td>\n",
       "      <td>0</td>\n",
       "    </tr>\n",
       "    <tr>\n",
       "      <th>2017-01-01 00:30:00</th>\n",
       "      <td>6.121</td>\n",
       "      <td>75.0</td>\n",
       "      <td>0.083</td>\n",
       "      <td>0.091</td>\n",
       "      <td>0.096</td>\n",
       "      <td>28228.86076</td>\n",
       "      <td>1</td>\n",
       "      <td>0</td>\n",
       "    </tr>\n",
       "    <tr>\n",
       "      <th>2017-01-01 00:40:00</th>\n",
       "      <td>5.921</td>\n",
       "      <td>75.7</td>\n",
       "      <td>0.081</td>\n",
       "      <td>0.048</td>\n",
       "      <td>0.085</td>\n",
       "      <td>27335.69620</td>\n",
       "      <td>1</td>\n",
       "      <td>0</td>\n",
       "    </tr>\n",
       "  </tbody>\n",
       "</table>\n",
       "</div>"
      ],
      "text/plain": [
       "                     Temperature  Humidity  Wind Speed  general diffuse flows  \\\n",
       "DateTime                                                                        \n",
       "2017-01-01 00:00:00        6.559      73.8       0.083                  0.051   \n",
       "2017-01-01 00:10:00        6.414      74.5       0.083                  0.070   \n",
       "2017-01-01 00:20:00        6.313      74.5       0.080                  0.062   \n",
       "2017-01-01 00:30:00        6.121      75.0       0.083                  0.091   \n",
       "2017-01-01 00:40:00        5.921      75.7       0.081                  0.048   \n",
       "\n",
       "                     diffuse flows  Zone 1 Power Consumption  months  hour  \n",
       "DateTime                                                                    \n",
       "2017-01-01 00:00:00          0.119               34055.69620       1     0  \n",
       "2017-01-01 00:10:00          0.085               29814.68354       1     0  \n",
       "2017-01-01 00:20:00          0.100               29128.10127       1     0  \n",
       "2017-01-01 00:30:00          0.096               28228.86076       1     0  \n",
       "2017-01-01 00:40:00          0.085               27335.69620       1     0  "
      ]
     },
     "execution_count": 288,
     "metadata": {},
     "output_type": "execute_result"
    }
   ],
   "source": [
    "df1.head()"
   ]
  },
  {
   "cell_type": "code",
   "execution_count": 292,
   "id": "66ec1e83",
   "metadata": {},
   "outputs": [
    {
     "data": {
      "text/html": [
       "<div>\n",
       "<style scoped>\n",
       "    .dataframe tbody tr th:only-of-type {\n",
       "        vertical-align: middle;\n",
       "    }\n",
       "\n",
       "    .dataframe tbody tr th {\n",
       "        vertical-align: top;\n",
       "    }\n",
       "\n",
       "    .dataframe thead th {\n",
       "        text-align: right;\n",
       "    }\n",
       "</style>\n",
       "<table border=\"1\" class=\"dataframe\">\n",
       "  <thead>\n",
       "    <tr style=\"text-align: right;\">\n",
       "      <th></th>\n",
       "      <th>Temperature</th>\n",
       "      <th>Humidity</th>\n",
       "      <th>Wind Speed</th>\n",
       "      <th>general diffuse flows</th>\n",
       "      <th>diffuse flows</th>\n",
       "      <th>Zone 2 Power Consumption</th>\n",
       "      <th>months</th>\n",
       "      <th>hour</th>\n",
       "    </tr>\n",
       "    <tr>\n",
       "      <th>DateTime</th>\n",
       "      <th></th>\n",
       "      <th></th>\n",
       "      <th></th>\n",
       "      <th></th>\n",
       "      <th></th>\n",
       "      <th></th>\n",
       "      <th></th>\n",
       "      <th></th>\n",
       "    </tr>\n",
       "  </thead>\n",
       "  <tbody>\n",
       "    <tr>\n",
       "      <th>2017-01-01 00:00:00</th>\n",
       "      <td>6.559</td>\n",
       "      <td>73.8</td>\n",
       "      <td>0.083</td>\n",
       "      <td>0.051</td>\n",
       "      <td>0.119</td>\n",
       "      <td>16128.87538</td>\n",
       "      <td>1</td>\n",
       "      <td>0</td>\n",
       "    </tr>\n",
       "    <tr>\n",
       "      <th>2017-01-01 00:10:00</th>\n",
       "      <td>6.414</td>\n",
       "      <td>74.5</td>\n",
       "      <td>0.083</td>\n",
       "      <td>0.070</td>\n",
       "      <td>0.085</td>\n",
       "      <td>19375.07599</td>\n",
       "      <td>1</td>\n",
       "      <td>0</td>\n",
       "    </tr>\n",
       "    <tr>\n",
       "      <th>2017-01-01 00:20:00</th>\n",
       "      <td>6.313</td>\n",
       "      <td>74.5</td>\n",
       "      <td>0.080</td>\n",
       "      <td>0.062</td>\n",
       "      <td>0.100</td>\n",
       "      <td>19006.68693</td>\n",
       "      <td>1</td>\n",
       "      <td>0</td>\n",
       "    </tr>\n",
       "    <tr>\n",
       "      <th>2017-01-01 00:30:00</th>\n",
       "      <td>6.121</td>\n",
       "      <td>75.0</td>\n",
       "      <td>0.083</td>\n",
       "      <td>0.091</td>\n",
       "      <td>0.096</td>\n",
       "      <td>18361.09422</td>\n",
       "      <td>1</td>\n",
       "      <td>0</td>\n",
       "    </tr>\n",
       "    <tr>\n",
       "      <th>2017-01-01 00:40:00</th>\n",
       "      <td>5.921</td>\n",
       "      <td>75.7</td>\n",
       "      <td>0.081</td>\n",
       "      <td>0.048</td>\n",
       "      <td>0.085</td>\n",
       "      <td>17872.34043</td>\n",
       "      <td>1</td>\n",
       "      <td>0</td>\n",
       "    </tr>\n",
       "  </tbody>\n",
       "</table>\n",
       "</div>"
      ],
      "text/plain": [
       "                     Temperature  Humidity  Wind Speed  general diffuse flows  \\\n",
       "DateTime                                                                        \n",
       "2017-01-01 00:00:00        6.559      73.8       0.083                  0.051   \n",
       "2017-01-01 00:10:00        6.414      74.5       0.083                  0.070   \n",
       "2017-01-01 00:20:00        6.313      74.5       0.080                  0.062   \n",
       "2017-01-01 00:30:00        6.121      75.0       0.083                  0.091   \n",
       "2017-01-01 00:40:00        5.921      75.7       0.081                  0.048   \n",
       "\n",
       "                     diffuse flows  Zone 2 Power Consumption  months  hour  \n",
       "DateTime                                                                    \n",
       "2017-01-01 00:00:00          0.119               16128.87538       1     0  \n",
       "2017-01-01 00:10:00          0.085               19375.07599       1     0  \n",
       "2017-01-01 00:20:00          0.100               19006.68693       1     0  \n",
       "2017-01-01 00:30:00          0.096               18361.09422       1     0  \n",
       "2017-01-01 00:40:00          0.085               17872.34043       1     0  "
      ]
     },
     "execution_count": 292,
     "metadata": {},
     "output_type": "execute_result"
    }
   ],
   "source": [
    "df2.head()"
   ]
  },
  {
   "cell_type": "code",
   "execution_count": null,
   "id": "ef775510",
   "metadata": {},
   "outputs": [],
   "source": [
    "df1.drop([\"Zone 3 Power Consumption\",\"Zone 2 Power Consumption\"],axis=1,inplace=True)"
   ]
  },
  {
   "cell_type": "code",
   "execution_count": null,
   "id": "172f28be",
   "metadata": {},
   "outputs": [],
   "source": [
    "df2.drop([\"Zone 3 Power Consumption\",\"Zone 1 Power Consumption\"],axis=1,inplace=True)"
   ]
  },
  {
   "cell_type": "code",
   "execution_count": null,
   "id": "623bace2",
   "metadata": {},
   "outputs": [],
   "source": [
    "df3.drop([\"Zone 1 Power Consumption\",\"Zone 2 Power Consumption\"],axis=1,inplace=True)"
   ]
  },
  {
   "cell_type": "code",
   "execution_count": null,
   "id": "fecd9b8c",
   "metadata": {},
   "outputs": [],
   "source": [
    "df3.drop(\"general diffuse flows\",axis=1,inplace=True)"
   ]
  },
  {
   "cell_type": "code",
   "execution_count": null,
   "id": "08ad2e3a",
   "metadata": {},
   "outputs": [],
   "source": [
    "x_=df1.drop(\"Zone 1 Power Consumption\",axis=1)\n",
    "y_=df1[\"Zone 1 Power Consumption\"]"
   ]
  },
  {
   "cell_type": "markdown",
   "id": "f126ff90",
   "metadata": {},
   "source": [
    "## Random Forest for selection of var for first model"
   ]
  },
  {
   "cell_type": "code",
   "execution_count": null,
   "id": "39083462",
   "metadata": {},
   "outputs": [],
   "source": [
    "rdf_model1=RandomForestRegressor()\n",
    "rdf_model1.fit(x_,y_)"
   ]
  },
  {
   "cell_type": "code",
   "execution_count": 279,
   "id": "c1c874e0",
   "metadata": {},
   "outputs": [
    {
     "data": {
      "image/png": "[encoded data removed]",
      "text/plain": [
       "<Figure size 1800x1800 with 1 Axes>"
      ]
     },
     "metadata": {
      "needs_background": "light"
     },
     "output_type": "display_data"
    },
    {
     "data": {
      "text/plain": [
       "hour                     0.746853\n",
       "Temperature              0.100372\n",
       "months                   0.071917\n",
       "general diffuse flows    0.025989\n",
       "Humidity                 0.021190\n",
       "diffuse flows            0.017840\n",
       "Wind Speed               0.015840\n",
       "dtype: float64"
      ]
     },
     "execution_count": 279,
     "metadata": {},
     "output_type": "execute_result"
    }
   ],
   "source": [
    "importances_var(rdf_model1,x_)"
   ]
  },
  {
   "cell_type": "code",
   "execution_count": 280,
   "id": "21fa330f",
   "metadata": {},
   "outputs": [
    {
     "data": {
      "text/plain": [
       "hour                      True\n",
       "Temperature               True\n",
       "months                    True\n",
       "general diffuse flows    False\n",
       "Humidity                 False\n",
       "diffuse flows            False\n",
       "Wind Speed               False\n",
       "dtype: bool"
      ]
     },
     "execution_count": 280,
     "metadata": {},
     "output_type": "execute_result"
    }
   ],
   "source": [
    "features_important>0.03"
   ]
  },
  {
   "cell_type": "code",
   "execution_count": 294,
   "id": "8fcbdcf3",
   "metadata": {},
   "outputs": [],
   "source": [
    "seuil=0.03\n",
    "features_selected=features_important[features_important>seuil].index.to_list()"
   ]
  },
  {
   "cell_type": "code",
   "execution_count": 295,
   "id": "f74ac130",
   "metadata": {},
   "outputs": [
    {
     "data": {
      "text/plain": [
       "['hour', 'months', 'general diffuse flows', 'Temperature', 'Humidity']"
      ]
     },
     "execution_count": 295,
     "metadata": {},
     "output_type": "execute_result"
    }
   ],
   "source": [
    "features_selected"
   ]
  },
  {
   "cell_type": "code",
   "execution_count": 293,
   "id": "c659699f",
   "metadata": {},
   "outputs": [],
   "source": [
    "x_selected=x_[features_selected]"
   ]
  },
  {
   "cell_type": "markdown",
   "id": "987e9f9e",
   "metadata": {},
   "source": [
    "## Random Forest for selection of var for second model"
   ]
  },
  {
   "cell_type": "code",
   "execution_count": 281,
   "id": "ff7ae5eb",
   "metadata": {},
   "outputs": [],
   "source": [
    "x_=df2.drop(\"Zone 2 Power Consumption\",axis=1)\n",
    "y_=df2[\"Zone 2 Power Consumption\"]"
   ]
  },
  {
   "cell_type": "code",
   "execution_count": 283,
   "id": "0fe9b2c9",
   "metadata": {},
   "outputs": [
    {
     "data": {
      "image/png": "[encoded data removed]",
      "text/plain": [
       "<Figure size 1800x1800 with 1 Axes>"
      ]
     },
     "metadata": {
      "needs_background": "light"
     },
     "output_type": "display_data"
    }
   ],
   "source": [
    "rdf_model2=RandomForestRegressor()\n",
    "rdf_model2.fit(x_,y_)\n",
    "features_important=importances_var(rdf_model2,x_)"
   ]
  },
  {
   "cell_type": "code",
   "execution_count": 284,
   "id": "b5ebb0cc",
   "metadata": {},
   "outputs": [],
   "source": [
    "x_selected2=x_[features_important[features_important>seuil].index.to_list()]"
   ]
  },
  {
   "cell_type": "code",
   "execution_count": 285,
   "id": "76a156fe",
   "metadata": {},
   "outputs": [
    {
     "data": {
      "text/html": [
       "<div>\n",
       "<style scoped>\n",
       "    .dataframe tbody tr th:only-of-type {\n",
       "        vertical-align: middle;\n",
       "    }\n",
       "\n",
       "    .dataframe tbody tr th {\n",
       "        vertical-align: top;\n",
       "    }\n",
       "\n",
       "    .dataframe thead th {\n",
       "        text-align: right;\n",
       "    }\n",
       "</style>\n",
       "<table border=\"1\" class=\"dataframe\">\n",
       "  <thead>\n",
       "    <tr style=\"text-align: right;\">\n",
       "      <th></th>\n",
       "      <th>hour</th>\n",
       "      <th>months</th>\n",
       "      <th>general diffuse flows</th>\n",
       "      <th>Temperature</th>\n",
       "      <th>Humidity</th>\n",
       "    </tr>\n",
       "    <tr>\n",
       "      <th>DateTime</th>\n",
       "      <th></th>\n",
       "      <th></th>\n",
       "      <th></th>\n",
       "      <th></th>\n",
       "      <th></th>\n",
       "    </tr>\n",
       "  </thead>\n",
       "  <tbody>\n",
       "    <tr>\n",
       "      <th>2017-01-01 00:00:00</th>\n",
       "      <td>0</td>\n",
       "      <td>1</td>\n",
       "      <td>0.051</td>\n",
       "      <td>6.559</td>\n",
       "      <td>73.8</td>\n",
       "    </tr>\n",
       "    <tr>\n",
       "      <th>2017-01-01 00:10:00</th>\n",
       "      <td>0</td>\n",
       "      <td>1</td>\n",
       "      <td>0.070</td>\n",
       "      <td>6.414</td>\n",
       "      <td>74.5</td>\n",
       "    </tr>\n",
       "    <tr>\n",
       "      <th>2017-01-01 00:20:00</th>\n",
       "      <td>0</td>\n",
       "      <td>1</td>\n",
       "      <td>0.062</td>\n",
       "      <td>6.313</td>\n",
       "      <td>74.5</td>\n",
       "    </tr>\n",
       "    <tr>\n",
       "      <th>2017-01-01 00:30:00</th>\n",
       "      <td>0</td>\n",
       "      <td>1</td>\n",
       "      <td>0.091</td>\n",
       "      <td>6.121</td>\n",
       "      <td>75.0</td>\n",
       "    </tr>\n",
       "    <tr>\n",
       "      <th>2017-01-01 00:40:00</th>\n",
       "      <td>0</td>\n",
       "      <td>1</td>\n",
       "      <td>0.048</td>\n",
       "      <td>5.921</td>\n",
       "      <td>75.7</td>\n",
       "    </tr>\n",
       "    <tr>\n",
       "      <th>...</th>\n",
       "      <td>...</td>\n",
       "      <td>...</td>\n",
       "      <td>...</td>\n",
       "      <td>...</td>\n",
       "      <td>...</td>\n",
       "    </tr>\n",
       "    <tr>\n",
       "      <th>2017-12-30 23:10:00</th>\n",
       "      <td>23</td>\n",
       "      <td>12</td>\n",
       "      <td>0.040</td>\n",
       "      <td>7.010</td>\n",
       "      <td>72.4</td>\n",
       "    </tr>\n",
       "    <tr>\n",
       "      <th>2017-12-30 23:20:00</th>\n",
       "      <td>23</td>\n",
       "      <td>12</td>\n",
       "      <td>0.051</td>\n",
       "      <td>6.947</td>\n",
       "      <td>72.6</td>\n",
       "    </tr>\n",
       "    <tr>\n",
       "      <th>2017-12-30 23:30:00</th>\n",
       "      <td>23</td>\n",
       "      <td>12</td>\n",
       "      <td>0.084</td>\n",
       "      <td>6.900</td>\n",
       "      <td>72.8</td>\n",
       "    </tr>\n",
       "    <tr>\n",
       "      <th>2017-12-30 23:40:00</th>\n",
       "      <td>23</td>\n",
       "      <td>12</td>\n",
       "      <td>0.066</td>\n",
       "      <td>6.758</td>\n",
       "      <td>73.0</td>\n",
       "    </tr>\n",
       "    <tr>\n",
       "      <th>2017-12-30 23:50:00</th>\n",
       "      <td>23</td>\n",
       "      <td>12</td>\n",
       "      <td>0.062</td>\n",
       "      <td>6.580</td>\n",
       "      <td>74.1</td>\n",
       "    </tr>\n",
       "  </tbody>\n",
       "</table>\n",
       "<p>52416 rows × 5 columns</p>\n",
       "</div>"
      ],
      "text/plain": [
       "                     hour  months  general diffuse flows  Temperature  \\\n",
       "DateTime                                                                \n",
       "2017-01-01 00:00:00     0       1                  0.051        6.559   \n",
       "2017-01-01 00:10:00     0       1                  0.070        6.414   \n",
       "2017-01-01 00:20:00     0       1                  0.062        6.313   \n",
       "2017-01-01 00:30:00     0       1                  0.091        6.121   \n",
       "2017-01-01 00:40:00     0       1                  0.048        5.921   \n",
       "...                   ...     ...                    ...          ...   \n",
       "2017-12-30 23:10:00    23      12                  0.040        7.010   \n",
       "2017-12-30 23:20:00    23      12                  0.051        6.947   \n",
       "2017-12-30 23:30:00    23      12                  0.084        6.900   \n",
       "2017-12-30 23:40:00    23      12                  0.066        6.758   \n",
       "2017-12-30 23:50:00    23      12                  0.062        6.580   \n",
       "\n",
       "                     Humidity  \n",
       "DateTime                       \n",
       "2017-01-01 00:00:00      73.8  \n",
       "2017-01-01 00:10:00      74.5  \n",
       "2017-01-01 00:20:00      74.5  \n",
       "2017-01-01 00:30:00      75.0  \n",
       "2017-01-01 00:40:00      75.7  \n",
       "...                       ...  \n",
       "2017-12-30 23:10:00      72.4  \n",
       "2017-12-30 23:20:00      72.6  \n",
       "2017-12-30 23:30:00      72.8  \n",
       "2017-12-30 23:40:00      73.0  \n",
       "2017-12-30 23:50:00      74.1  \n",
       "\n",
       "[52416 rows x 5 columns]"
      ]
     },
     "execution_count": 285,
     "metadata": {},
     "output_type": "execute_result"
    }
   ],
   "source": [
    "x_selected2"
   ]
  },
  {
   "cell_type": "markdown",
   "id": "971b7c86",
   "metadata": {},
   "source": [
    "## Random Forest for selection of var for third model"
   ]
  },
  {
   "cell_type": "code",
   "execution_count": 296,
   "id": "7b81fb7e",
   "metadata": {},
   "outputs": [],
   "source": [
    "x_=df3.drop(\"Zone 3 Power Consumption\",axis=1)\n",
    "y_=df3[\"Zone 3 Power Consumption\"]"
   ]
  },
  {
   "cell_type": "code",
   "execution_count": 297,
   "id": "e7842e61",
   "metadata": {},
   "outputs": [
    {
     "data": {
      "image/png": "[encoded data removed]",
      "text/plain": [
       "<Figure size 1800x1800 with 1 Axes>"
      ]
     },
     "metadata": {
      "needs_background": "light"
     },
     "output_type": "display_data"
    }
   ],
   "source": [
    "rdf_model3=RandomForestRegressor()\n",
    "rdf_model3.fit(x_,y_)\n",
    "features_important=importances_var(rdf_model3,x_)"
   ]
  },
  {
   "cell_type": "code",
   "execution_count": 298,
   "id": "0a0b4720",
   "metadata": {},
   "outputs": [
    {
     "data": {
      "text/plain": [
       "months           0.435549\n",
       "hour             0.366212\n",
       "Temperature      0.147479\n",
       "Wind Speed       0.017754\n",
       "Humidity         0.016656\n",
       "diffuse flows    0.016351\n",
       "dtype: float64"
      ]
     },
     "execution_count": 298,
     "metadata": {},
     "output_type": "execute_result"
    }
   ],
   "source": [
    "features_important"
   ]
  },
  {
   "cell_type": "code",
   "execution_count": 300,
   "id": "7fc0ff9b",
   "metadata": {},
   "outputs": [],
   "source": [
    "x_selected3=x_[features_important[features_important>seuil].index.to_list()]"
   ]
  },
  {
   "cell_type": "code",
   "execution_count": 312,
   "id": "4df0b0f7",
   "metadata": {},
   "outputs": [
    {
     "data": {
      "text/html": [
       "<div>\n",
       "<style scoped>\n",
       "    .dataframe tbody tr th:only-of-type {\n",
       "        vertical-align: middle;\n",
       "    }\n",
       "\n",
       "    .dataframe tbody tr th {\n",
       "        vertical-align: top;\n",
       "    }\n",
       "\n",
       "    .dataframe thead th {\n",
       "        text-align: right;\n",
       "    }\n",
       "</style>\n",
       "<table border=\"1\" class=\"dataframe\">\n",
       "  <thead>\n",
       "    <tr style=\"text-align: right;\">\n",
       "      <th></th>\n",
       "      <th>months</th>\n",
       "      <th>hour</th>\n",
       "      <th>Temperature</th>\n",
       "    </tr>\n",
       "    <tr>\n",
       "      <th>DateTime</th>\n",
       "      <th></th>\n",
       "      <th></th>\n",
       "      <th></th>\n",
       "    </tr>\n",
       "  </thead>\n",
       "  <tbody>\n",
       "    <tr>\n",
       "      <th>2017-12-30 23:10:00</th>\n",
       "      <td>12</td>\n",
       "      <td>23</td>\n",
       "      <td>7.010</td>\n",
       "    </tr>\n",
       "    <tr>\n",
       "      <th>2017-12-30 23:20:00</th>\n",
       "      <td>12</td>\n",
       "      <td>23</td>\n",
       "      <td>6.947</td>\n",
       "    </tr>\n",
       "    <tr>\n",
       "      <th>2017-12-30 23:30:00</th>\n",
       "      <td>12</td>\n",
       "      <td>23</td>\n",
       "      <td>6.900</td>\n",
       "    </tr>\n",
       "    <tr>\n",
       "      <th>2017-12-30 23:40:00</th>\n",
       "      <td>12</td>\n",
       "      <td>23</td>\n",
       "      <td>6.758</td>\n",
       "    </tr>\n",
       "    <tr>\n",
       "      <th>2017-12-30 23:50:00</th>\n",
       "      <td>12</td>\n",
       "      <td>23</td>\n",
       "      <td>6.580</td>\n",
       "    </tr>\n",
       "  </tbody>\n",
       "</table>\n",
       "</div>"
      ],
      "text/plain": [
       "                     months  hour  Temperature\n",
       "DateTime                                      \n",
       "2017-12-30 23:10:00      12    23        7.010\n",
       "2017-12-30 23:20:00      12    23        6.947\n",
       "2017-12-30 23:30:00      12    23        6.900\n",
       "2017-12-30 23:40:00      12    23        6.758\n",
       "2017-12-30 23:50:00      12    23        6.580"
      ]
     },
     "execution_count": 312,
     "metadata": {},
     "output_type": "execute_result"
    }
   ],
   "source": [
    "x_selected3.tail(5)"
   ]
  },
  {
   "cell_type": "code",
   "execution_count": 302,
   "id": "9f83dc8e",
   "metadata": {},
   "outputs": [
    {
     "data": {
      "text/plain": [
       "'Nous avons donc selectionnees nos variables pour les trois modeles'"
      ]
     },
     "execution_count": 302,
     "metadata": {},
     "output_type": "execute_result"
    }
   ],
   "source": [
    "\"\"\"Nous avons donc selectionnees nos variables pour les trois modeles\"\"\""
   ]
  },
  {
   "cell_type": "markdown",
   "id": "ceee9fca",
   "metadata": {},
   "source": [
    "# Feature Engineering"
   ]
  },
  {
   "cell_type": "markdown",
   "id": "8af53785",
   "metadata": {},
   "source": [
    "## Feature scaling: standardize or values"
   ]
  },
  {
   "cell_type": "code",
   "execution_count": 400,
   "id": "32fe66c0",
   "metadata": {},
   "outputs": [],
   "source": [
    "df1=pd.concat([x_selected,df[\"Zone 1 Power Consumption\"]],axis=1)"
   ]
  },
  {
   "cell_type": "code",
   "execution_count": 420,
   "id": "68d1ba2e",
   "metadata": {},
   "outputs": [],
   "source": [
    "data_consumption"
   ]
  },
  {
   "cell_type": "code",
   "execution_count": 408,
   "id": "fc95adf2",
   "metadata": {},
   "outputs": [],
   "source": [
    "df1_standardisation=for_standardisation(df1)"
   ]
  },
  {
   "cell_type": "code",
   "execution_count": 409,
   "id": "6156706f",
   "metadata": {},
   "outputs": [
    {
     "data": {
      "text/html": [
       "<div>\n",
       "<style scoped>\n",
       "    .dataframe tbody tr th:only-of-type {\n",
       "        vertical-align: middle;\n",
       "    }\n",
       "\n",
       "    .dataframe tbody tr th {\n",
       "        vertical-align: top;\n",
       "    }\n",
       "\n",
       "    .dataframe thead th {\n",
       "        text-align: right;\n",
       "    }\n",
       "</style>\n",
       "<table border=\"1\" class=\"dataframe\">\n",
       "  <thead>\n",
       "    <tr style=\"text-align: right;\">\n",
       "      <th></th>\n",
       "      <th>hour</th>\n",
       "      <th>Temperature</th>\n",
       "      <th>months</th>\n",
       "      <th>Zone 1 Power Consumption</th>\n",
       "    </tr>\n",
       "  </thead>\n",
       "  <tbody>\n",
       "    <tr>\n",
       "      <th>0</th>\n",
       "      <td>0.0</td>\n",
       "      <td>0.090091</td>\n",
       "      <td>0.0</td>\n",
       "      <td>0.526251</td>\n",
       "    </tr>\n",
       "    <tr>\n",
       "      <th>1</th>\n",
       "      <td>0.0</td>\n",
       "      <td>0.086146</td>\n",
       "      <td>0.0</td>\n",
       "      <td>0.415545</td>\n",
       "    </tr>\n",
       "    <tr>\n",
       "      <th>2</th>\n",
       "      <td>0.0</td>\n",
       "      <td>0.083399</td>\n",
       "      <td>0.0</td>\n",
       "      <td>0.397623</td>\n",
       "    </tr>\n",
       "    <tr>\n",
       "      <th>3</th>\n",
       "      <td>0.0</td>\n",
       "      <td>0.078176</td>\n",
       "      <td>0.0</td>\n",
       "      <td>0.374149</td>\n",
       "    </tr>\n",
       "    <tr>\n",
       "      <th>4</th>\n",
       "      <td>0.0</td>\n",
       "      <td>0.072736</td>\n",
       "      <td>0.0</td>\n",
       "      <td>0.350834</td>\n",
       "    </tr>\n",
       "    <tr>\n",
       "      <th>...</th>\n",
       "      <td>...</td>\n",
       "      <td>...</td>\n",
       "      <td>...</td>\n",
       "      <td>...</td>\n",
       "    </tr>\n",
       "    <tr>\n",
       "      <th>52411</th>\n",
       "      <td>1.0</td>\n",
       "      <td>0.102358</td>\n",
       "      <td>1.0</td>\n",
       "      <td>0.450675</td>\n",
       "    </tr>\n",
       "    <tr>\n",
       "      <th>52412</th>\n",
       "      <td>1.0</td>\n",
       "      <td>0.100645</td>\n",
       "      <td>1.0</td>\n",
       "      <td>0.431618</td>\n",
       "    </tr>\n",
       "    <tr>\n",
       "      <th>52413</th>\n",
       "      <td>1.0</td>\n",
       "      <td>0.099366</td>\n",
       "      <td>1.0</td>\n",
       "      <td>0.409703</td>\n",
       "    </tr>\n",
       "    <tr>\n",
       "      <th>52414</th>\n",
       "      <td>1.0</td>\n",
       "      <td>0.095504</td>\n",
       "      <td>1.0</td>\n",
       "      <td>0.393187</td>\n",
       "    </tr>\n",
       "    <tr>\n",
       "      <th>52415</th>\n",
       "      <td>1.0</td>\n",
       "      <td>0.090662</td>\n",
       "      <td>1.0</td>\n",
       "      <td>0.377306</td>\n",
       "    </tr>\n",
       "  </tbody>\n",
       "</table>\n",
       "<p>52416 rows × 4 columns</p>\n",
       "</div>"
      ],
      "text/plain": [
       "       hour  Temperature  months  Zone 1 Power Consumption\n",
       "0       0.0     0.090091     0.0                  0.526251\n",
       "1       0.0     0.086146     0.0                  0.415545\n",
       "2       0.0     0.083399     0.0                  0.397623\n",
       "3       0.0     0.078176     0.0                  0.374149\n",
       "4       0.0     0.072736     0.0                  0.350834\n",
       "...     ...          ...     ...                       ...\n",
       "52411   1.0     0.102358     1.0                  0.450675\n",
       "52412   1.0     0.100645     1.0                  0.431618\n",
       "52413   1.0     0.099366     1.0                  0.409703\n",
       "52414   1.0     0.095504     1.0                  0.393187\n",
       "52415   1.0     0.090662     1.0                  0.377306\n",
       "\n",
       "[52416 rows x 4 columns]"
      ]
     },
     "execution_count": 409,
     "metadata": {},
     "output_type": "execute_result"
    }
   ],
   "source": [
    "df1_standardisation"
   ]
  },
  {
   "cell_type": "markdown",
   "id": "640f2473",
   "metadata": {},
   "source": [
    "# Separation de la dataset"
   ]
  },
  {
   "cell_type": "code",
   "execution_count": 411,
   "id": "6e4da9ca",
   "metadata": {},
   "outputs": [],
   "source": [
    "x_train1,x_test1,y_train1,y_test1=separation_of_dataset(df1_standardisation)"
   ]
  },
  {
   "cell_type": "markdown",
   "id": "daa3ffc4",
   "metadata": {},
   "source": [
    "# Modelization"
   ]
  },
  {
   "cell_type": "markdown",
   "id": "a0704dc7",
   "metadata": {},
   "source": [
    "## Random forest optimiser"
   ]
  },
  {
   "cell_type": "code",
   "execution_count": null,
   "id": "bd1ac323",
   "metadata": {},
   "outputs": [],
   "source": [
    "seed=999"
   ]
  },
  {
   "cell_type": "code",
   "execution_count": null,
   "id": "2dfc1ea1",
   "metadata": {},
   "outputs": [],
   "source": [
    "param_grid={'n_estimators' : [10,20,30],\n",
    "            'min_samples_split' :[4,8,10,20,30,40,50],\n",
    "            'max_leaf_nodes':[2,4,8,10,20,30],\n",
    "            'criterion' : ['squared_error', 'absolute_error', 'friedman_mse', 'poisson'],\n",
    "            'max_features' : [\"sqrt\", \"log2\", None],\n",
    "           'max_depth' : [2,4,3,5, None]}\n",
    "\n",
    "random_model_Zone1=GridSearchCV(estimator=RandomForestRegressor(random_state=seed), param_grid=param_grid,scoring='neg_mean_squared_error',cv=5)\n",
    "\n",
    "random_model_Zone1=random_model_Zone1.fit(x_train1,y_train1)\n",
    "\n",
    "#best score\n",
    "print(round(random_model_Zone1.best_score_,3))\n",
    "print(random_model_Zone1.best_estimator_)"
   ]
  },
  {
   "cell_type": "code",
   "execution_count": null,
   "id": "79d91e05",
   "metadata": {},
   "outputs": [],
   "source": [
    "## XGBoost"
   ]
  },
  {
   "cell_type": "code",
   "execution_count": null,
   "id": "f8855fc7",
   "metadata": {},
   "outputs": [],
   "source": [
    "n_estimators=1000\n",
    "xgboost_model,scores=training.train_xgboost(x_train1,y_train1,x_test1,y_test1,n_estimators=n_estimators,b_feat_importance=True,b_verbose=False"
   ]
  },
  {
   "cell_type": "code",
   "execution_count": null,
   "id": "0cf5f130",
   "metadata": {},
   "outputs": [],
   "source": [
    "# LSTM"
   ]
  },
  {
   "cell_type": "code",
   "execution_count": null,
   "id": "d2f7e2a6",
   "metadata": {},
   "outputs": [],
   "source": [
    "def transformation_for_lstm(x_train):\n",
    "    x_train=x_train.reshape(x_train.shape[0],1,x_train.shape[1])\n",
    "    "
   ]
  },
  {
   "cell_type": "code",
   "execution_count": null,
   "id": "cb209a70",
   "metadata": {},
   "outputs": [],
   "source": [
    "# set LSTM neural network\n",
    "model = Sequential()\n",
    "# build model\n",
    "model.add(LSTM(units=30, input_shape=(x_train.shape[1], x_train.shape[2])))\n",
    "model.add(Dense(units=1))\n",
    "# set compiler\n",
    "optimizer = Adam(lr=0.01561601307656165)\n",
    "model.compile(loss='mse', optimizer=optimizer, metrics=['mae'])"
   ]
  }
 ],
 "metadata": {
  "kernelspec": {
   "display_name": "Python 3",
   "language": "python",
   "name": "python3"
  },
  "language_info": {
   "codemirror_mode": {
    "name": "ipython",
    "version": 3
   },
   "file_extension": ".py",
   "mimetype": "text/x-python",
   "name": "python",
   "nbconvert_exporter": "python",
   "pygments_lexer": "ipython3",
   "version": "3.8.3"
  }
 },
 "nbformat": 4,
 "nbformat_minor": 5
}
